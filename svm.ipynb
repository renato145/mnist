{
 "cells": [
  {
   "cell_type": "markdown",
   "metadata": {},
   "source": [
    "# MNIST (PCA + SVM)"
   ]
  },
  {
   "cell_type": "code",
   "execution_count": 1,
   "metadata": {
    "collapsed": true
   },
   "outputs": [],
   "source": [
    "# libraries\n",
    "%matplotlib inline\n",
    "from __future__ import print_function\n",
    "from sklearn.decomposition import PCA\n",
    "from sklearn.datasets import fetch_mldata\n",
    "from sklearn.grid_search import GridSearchCV\n",
    "from sklearn import svm, metrics, cross_validation\n",
    "import matplotlib.pyplot as plt\n",
    "import numpy as np\n",
    "import pandas as pd\n",
    "import timeit"
   ]
  },
  {
   "cell_type": "code",
   "execution_count": 2,
   "metadata": {
    "collapsed": true
   },
   "outputs": [],
   "source": [
    "# load MNIST data\n",
    "mnist = fetch_mldata(\"MNIST original\")\n",
    "\n",
    "# rescale the data\n",
    "X, y = mnist.data / 255., mnist.target\n",
    "\n",
    "# separate train, test\n",
    "X_train, X_test = X[:60000], X[60000:]\n",
    "y_train, y_test = y[:60000], y[60000:]"
   ]
  },
  {
   "cell_type": "markdown",
   "metadata": {},
   "source": [
    "### PCA:\n",
    "- Components: 100"
   ]
  },
  {
   "cell_type": "code",
   "execution_count": 3,
   "metadata": {
    "collapsed": false
   },
   "outputs": [
    {
     "name": "stdout",
     "output_type": "stream",
     "text": [
      "Variance explained with 100 components: 0.9146\n"
     ]
    },
    {
     "data": {
      "image/png": "[encoded data removed]",
      "text/plain": [
       "<matplotlib.figure.Figure at 0x7f375c1304a8>"
      ]
     },
     "metadata": {},
     "output_type": "display_data"
    }
   ],
   "source": [
    "pca = PCA(n_components=100)\n",
    "pca.fit(X_train)\n",
    "train_ext = pca.transform(X_train)\n",
    "test_ext = pca.transform(X_test)\n",
    "print(\"Variance explained with 100 components: %.4f\" % np.sum(pca.explained_variance_ratio_))\n",
    "plt.plot(pca.explained_variance_ratio_)\n",
    "plt.title('Variance Explained by Extracted Componenent')\n",
    "plt.show()"
   ]
  },
  {
   "cell_type": "markdown",
   "metadata": {},
   "source": [
    "### SVM:\n",
    "- kernel: Radial Basis Function (RBF)\n",
    "- gamma : 0.001\n",
    "- c     : 1"
   ]
  },
  {
   "cell_type": "code",
   "execution_count": 4,
   "metadata": {
    "collapsed": false
   },
   "outputs": [
    {
     "name": "stdout",
     "output_type": "stream",
     "text": [
      "SVM fit time: 140.45 sec\n"
     ]
    }
   ],
   "source": [
    "classifier = svm.SVC(gamma=0.001)\n",
    "start_time = timeit.default_timer()\n",
    "classifier.fit(train_ext, y_train)\n",
    "elapsed = timeit.default_timer() - start_time\n",
    "print(\"SVM fit time: %.2f sec\" % (elapsed))\n",
    "predicted = classifier.predict(test_ext)"
   ]
  },
  {
   "cell_type": "markdown",
   "metadata": {},
   "source": [
    "### Cross validation\n",
    "- fold: 5"
   ]
  },
  {
   "cell_type": "code",
   "execution_count": 13,
   "metadata": {
    "collapsed": false
   },
   "outputs": [
    {
     "name": "stdout",
     "output_type": "stream",
     "text": [
      "Cross validatione time: 318.80 sec\n",
      "Cross validation scores: [ 0.9344  0.9299  0.9299  0.9262  0.9376]\n",
      "Cross validation mean: 0.932 (+/-0.008)\n"
     ]
    }
   ],
   "source": [
    "start_time = timeit.default_timer()\n",
    "scores = cross_validation.cross_val_score(classifier, train_ext, y_train, cv=5, n_jobs=-1)\n",
    "elapsedCV = timeit.default_timer() - start_time\n",
    "print(\"Cross validatione time: %.2f sec\" % (elapsedCV))\n",
    "np.set_printoptions(precision=4)\n",
    "print(\"Cross validation scores:\", scores)\n",
    "print(\"Cross validation mean: %0.3f (+/-%0.03f)\" % (scores.mean(), scores.std() * 2))"
   ]
  },
  {
   "cell_type": "markdown",
   "metadata": {},
   "source": [
    "### Classification metrics:"
   ]
  },
  {
   "cell_type": "code",
   "execution_count": 5,
   "metadata": {
    "collapsed": false
   },
   "outputs": [
    {
     "name": "stdout",
     "output_type": "stream",
     "text": [
      "\n",
      "Accuracy on test data: 0.9404\n"
     ]
    }
   ],
   "source": [
    "print(\"\\nAccuracy on test data: %.4f\" % metrics.accuracy_score(y_test, predicted))"
   ]
  },
  {
   "cell_type": "markdown",
   "metadata": {},
   "source": [
    "#### Confusion matrix:"
   ]
  },
  {
   "cell_type": "code",
   "execution_count": 6,
   "metadata": {
    "collapsed": false
   },
   "outputs": [
    {
     "name": "stdout",
     "output_type": "stream",
     "text": [
      "[[ 967    0    1    0    0    5    5    1    1    0]\n",
      " [   0 1119    2    3    0    1    3    1    6    0]\n",
      " [   9    1  953    9    9    1   16   11   21    2]\n",
      " [   1    1   16  945    1   17    2   12   11    4]\n",
      " [   1    1    6    0  931    0    9    2    2   30]\n",
      " [   7    5    5   33    6  806   13    2    9    6]\n",
      " [  10    3    4    1    6   10  923    0    1    0]\n",
      " [   2   14   22    5    8    1    0  953    4   19]\n",
      " [   4    7    6   14    8   25   12    6  887    5]\n",
      " [   9    6    0   12   33    6    1   15    7  920]]\n"
     ]
    }
   ],
   "source": [
    "print(metrics.confusion_matrix(y_test, predicted, range(10)))"
   ]
  },
  {
   "cell_type": "markdown",
   "metadata": {},
   "source": [
    "#### Classification report:\n",
    "- precision: truePositives / (truePositives + falsePositives)\n",
    "- recall: truePositives / Positives\n",
    "- f1-score: 2 * (precision * recall) / (precision + recall)\n",
    "- support: Cantidad de ocurrencias"
   ]
  },
  {
   "cell_type": "code",
   "execution_count": 8,
   "metadata": {
    "collapsed": false
   },
   "outputs": [
    {
     "name": "stdout",
     "output_type": "stream",
     "text": [
      "             precision    recall  f1-score   support\n",
      "\n",
      "        0.0       0.96      0.99      0.97       980\n",
      "        1.0       0.97      0.99      0.98      1135\n",
      "        2.0       0.94      0.92      0.93      1032\n",
      "        3.0       0.92      0.94      0.93      1010\n",
      "        4.0       0.93      0.95      0.94       982\n",
      "        5.0       0.92      0.90      0.91       892\n",
      "        6.0       0.94      0.96      0.95       958\n",
      "        7.0       0.95      0.93      0.94      1028\n",
      "        8.0       0.93      0.91      0.92       974\n",
      "        9.0       0.93      0.91      0.92      1009\n",
      "\n",
      "avg / total       0.94      0.94      0.94     10000\n",
      "\n"
     ]
    }
   ],
   "source": [
    "print(metrics.classification_report(y_test, predicted))"
   ]
  },
  {
   "cell_type": "markdown",
   "metadata": {},
   "source": [
    "### Error samples:"
   ]
  },
  {
   "cell_type": "code",
   "execution_count": 11,
   "metadata": {
    "collapsed": false
   },
   "outputs": [
    {
     "data": {
      "image/png": "[encoded data removed]",
      "text/plain": [
       "<matplotlib.figure.Figure at 0x7fd8440ba128>"
      ]
     },
     "metadata": {},
     "output_type": "display_data"
    }
   ],
   "source": [
    "misslabels = predicted[y_test != predicted]\n",
    "reallabels = y_test[y_test != predicted]\n",
    "missimages = X_test[y_test != predicted]\n",
    "choice = np.random.choice(range(len(misslabels)), 12, replace=False)\n",
    "plt.figure(figsize=(16, 6))\n",
    "for index, i in enumerate(choice):\n",
    "    plt.subplot(2, 6, index+1)\n",
    "    plt.axis('off')\n",
    "    plt.imshow(missimages[i].reshape(28, 28), cmap=plt.cm.gray_r, interpolation='nearest')\n",
    "    plt.title('Prediction: %i\\nTrue: %i' % (misslabels[i], reallabels[i]))"
   ]
  },
  {
   "cell_type": "markdown",
   "metadata": {},
   "source": [
    "Save results:"
   ]
  },
  {
   "cell_type": "code",
   "execution_count": 9,
   "metadata": {
    "collapsed": true
   },
   "outputs": [],
   "source": [
    "df = pd.DataFrame(metrics.confusion_matrix(y_test, predicted, range(10)))\n",
    "df.to_csv('svm.csv')\n",
    "with open('svmTime.txt', 'w') as file_:\n",
    "    file_.write('%.4f' % elapsed)"
   ]
  }
 ],
 "metadata": {
  "kernelspec": {
   "display_name": "Python 3",
   "language": "python",
   "name": "python3"
  },
  "language_info": {
   "codemirror_mode": {
    "name": "ipython",
    "version": 3
   },
   "file_extension": ".py",
   "mimetype": "text/x-python",
   "name": "python",
   "nbconvert_exporter": "python",
   "pygments_lexer": "ipython3",
   "version": "3.5.1"
  }
 },
 "nbformat": 4,
 "nbformat_minor": 0
}
