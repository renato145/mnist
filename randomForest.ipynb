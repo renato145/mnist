{
 "cells": [
  {
   "cell_type": "markdown",
   "metadata": {},
   "source": [
    "# MNIST (Random Forest)"
   ]
  },
  {
   "cell_type": "code",
   "execution_count": 1,
   "metadata": {
    "collapsed": true
   },
   "outputs": [],
   "source": [
    "# libraries\n",
    "%matplotlib inline\n",
    "from __future__ import print_function\n",
    "from sklearn.datasets import fetch_mldata\n",
    "from sklearn import metrics, cross_validation\n",
    "from sklearn.grid_search import GridSearchCV\n",
    "from sklearn.ensemble import RandomForestClassifier\n",
    "import matplotlib.pyplot as plt\n",
    "import numpy as np\n",
    "import pandas as pd\n",
    "import timeit"
   ]
  },
  {
   "cell_type": "code",
   "execution_count": 2,
   "metadata": {
    "collapsed": true
   },
   "outputs": [],
   "source": [
    "# load MNIST data\n",
    "mnist = fetch_mldata(\"MNIST original\")\n",
    "\n",
    "# rescale the data\n",
    "X, y = mnist.data / 255., mnist.target\n",
    "\n",
    "# separate train, test\n",
    "X_train, X_test = X[:60000], X[60000:]\n",
    "y_train, y_test = y[:60000], y[60000:]"
   ]
  },
  {
   "cell_type": "markdown",
   "metadata": {},
   "source": [
    "### Random Forest:\n",
    "- number of trees: 250"
   ]
  },
  {
   "cell_type": "code",
   "execution_count": 3,
   "metadata": {
    "collapsed": false
   },
   "outputs": [
    {
     "name": "stdout",
     "output_type": "stream",
     "text": [
      "Time fit: 26.44 sec\n",
      "Time predict: 0.44 sec\n"
     ]
    }
   ],
   "source": [
    "classifier = RandomForestClassifier(250, n_jobs=-1)\n",
    "start_time = timeit.default_timer()\n",
    "classifier.fit(X_train, y_train)\n",
    "elapsed = timeit.default_timer() - start_time\n",
    "print(\"Time fit: %.2f sec\" % (elapsed))\n",
    "start_time = timeit.default_timer()\n",
    "predicted = classifier.predict(X_test)\n",
    "elapsedPredict = timeit.default_timer() - start_time\n",
    "print(\"Time predict: %.2f sec\" % (elapsedPredict))"
   ]
  },
  {
   "cell_type": "markdown",
   "metadata": {},
   "source": [
    "### Cross validation\n",
    "- fold: 5"
   ]
  },
  {
   "cell_type": "code",
   "execution_count": 4,
   "metadata": {
    "collapsed": false
   },
   "outputs": [
    {
     "name": "stdout",
     "output_type": "stream",
     "text": [
      "Cross validatione time: 131.82 sec\n",
      "Cross validation scores: [ 0.9711  0.9661  0.9652  0.9647  0.9718]\n",
      "Cross validation mean: 0.968 (+/-0.006)\n"
     ]
    }
   ],
   "source": [
    "start_time = timeit.default_timer()\n",
    "scores = cross_validation.cross_val_score(classifier, X_train, y_train, cv=5, n_jobs=-1)\n",
    "elapsedCV = timeit.default_timer() - start_time\n",
    "print(\"Cross validatione time: %.2f sec\" % (elapsedCV))\n",
    "np.set_printoptions(precision=4)\n",
    "print(\"Cross validation scores:\", scores)\n",
    "print(\"Cross validation mean: %0.3f (+/-%0.03f)\" % (scores.mean(), scores.std() * 2))"
   ]
  },
  {
   "cell_type": "markdown",
   "metadata": {},
   "source": [
    "### Classification metrics:"
   ]
  },
  {
   "cell_type": "code",
   "execution_count": 5,
   "metadata": {
    "collapsed": false
   },
   "outputs": [
    {
     "name": "stdout",
     "output_type": "stream",
     "text": [
      "\n",
      "Accuracy on test data: 0.9709\n"
     ]
    }
   ],
   "source": [
    "print(\"\\nAccuracy on test data: %.4f\" % metrics.accuracy_score(y_test, predicted))"
   ]
  },
  {
   "cell_type": "markdown",
   "metadata": {},
   "source": [
    "#### Confusion matrix:"
   ]
  },
  {
   "cell_type": "code",
   "execution_count": 6,
   "metadata": {
    "collapsed": false
   },
   "outputs": [
    {
     "name": "stdout",
     "output_type": "stream",
     "text": [
      "[[ 969    0    0    0    0    2    3    1    4    1]\n",
      " [   0 1123    2    3    0    1    4    0    1    1]\n",
      " [   6    0 1001    7    2    0    2    8    6    0]\n",
      " [   0    0   10  975    0    6    0    9    7    3]\n",
      " [   1    0    0    0  955    0    6    0    3   17]\n",
      " [   2    0    0   10    3  860    6    2    5    4]\n",
      " [   5    3    1    0    3    3  941    0    2    0]\n",
      " [   1    3   18    1    1    0    0  991    2   11]\n",
      " [   2    0    4    8    3    5    4    5  934    9]\n",
      " [   6    6    3   11   10    5    1    3    4  960]]\n"
     ]
    }
   ],
   "source": [
    "print(metrics.confusion_matrix(y_test, predicted, range(10)))"
   ]
  },
  {
   "cell_type": "markdown",
   "metadata": {},
   "source": [
    "#### Classification report:\n",
    "- precision: truePositives / (truePositives + falsePositives)\n",
    "- recall: truePositives / Positives\n",
    "- f1-score: 2 * (precision * recall) / (precision + recall)\n",
    "- support: Cantidad de ocurrencias"
   ]
  },
  {
   "cell_type": "code",
   "execution_count": 7,
   "metadata": {
    "collapsed": false
   },
   "outputs": [
    {
     "name": "stdout",
     "output_type": "stream",
     "text": [
      "             precision    recall  f1-score   support\n",
      "\n",
      "        0.0       0.98      0.99      0.98       980\n",
      "        1.0       0.99      0.99      0.99      1135\n",
      "        2.0       0.96      0.97      0.97      1032\n",
      "        3.0       0.96      0.97      0.96      1010\n",
      "        4.0       0.98      0.97      0.97       982\n",
      "        5.0       0.98      0.96      0.97       892\n",
      "        6.0       0.97      0.98      0.98       958\n",
      "        7.0       0.97      0.96      0.97      1028\n",
      "        8.0       0.96      0.96      0.96       974\n",
      "        9.0       0.95      0.95      0.95      1009\n",
      "\n",
      "avg / total       0.97      0.97      0.97     10000\n",
      "\n"
     ]
    }
   ],
   "source": [
    "print(metrics.classification_report(y_test, predicted))"
   ]
  },
  {
   "cell_type": "markdown",
   "metadata": {},
   "source": [
    "### Error samples:"
   ]
  },
  {
   "cell_type": "code",
   "execution_count": 8,
   "metadata": {
    "collapsed": false,
    "scrolled": true
   },
   "outputs": [
    {
     "data": {
      "image/png": "[encoded data removed]",
      "text/plain": [
       "<matplotlib.figure.Figure at 0x7fdd9bda6b00>"
      ]
     },
     "metadata": {},
     "output_type": "display_data"
    }
   ],
   "source": [
    "misslabels = predicted[y_test != predicted]\n",
    "reallabels = y_test[y_test != predicted]\n",
    "missimages = X_test[y_test != predicted]\n",
    "choice = np.random.choice(range(len(misslabels)), 12, replace=False)\n",
    "plt.figure(figsize=(16, 6))\n",
    "for index, i in enumerate(choice):\n",
    "    plt.subplot(2, 6, index+1)\n",
    "    plt.axis('off')\n",
    "    plt.imshow(missimages[i].reshape(28, 28), cmap=plt.cm.gray_r, interpolation='nearest')\n",
    "    plt.title('Prediction: %i\\nTrue: %i' % (misslabels[i], reallabels[i]))"
   ]
  },
  {
   "cell_type": "markdown",
   "metadata": {},
   "source": [
    "### Plot pixel importances"
   ]
  },
  {
   "cell_type": "code",
   "execution_count": 9,
   "metadata": {
    "collapsed": false
   },
   "outputs": [
    {
     "data": {
      "image/png": "[encoded data removed]",
      "text/plain": [
       "<matplotlib.figure.Figure at 0x7fdda6af6f60>"
      ]
     },
     "metadata": {},
     "output_type": "display_data"
    }
   ],
   "source": [
    "importances = classifier.feature_importances_\n",
    "importances = importances.reshape(28, 28)\n",
    "\n",
    "plt.figure(figsize=(10, 10))\n",
    "plt.axis('off')\n",
    "plt.imshow(importances, cmap=plt.cm.hot, interpolation='nearest')\n",
    "plt.title(\"Pixel importances with forests of trees\")\n",
    "plt.show()"
   ]
  },
  {
   "cell_type": "markdown",
   "metadata": {},
   "source": [
    "Save results:"
   ]
  },
  {
   "cell_type": "code",
   "execution_count": 11,
   "metadata": {
    "collapsed": true
   },
   "outputs": [],
   "source": [
    "df = pd.DataFrame(metrics.confusion_matrix(y_test, predicted, range(10)))\n",
    "df.to_csv('randomForest.csv')\n",
    "with open('randomForestTime.txt', 'w') as file_:\n",
    "    file_.write('%.4f' % elapsed)\n",
    "dfResults = pd.DataFrame(predicted)\n",
    "dfResults.to_csv('randomForestResults.csv')"
   ]
  }
 ],
 "metadata": {
  "kernelspec": {
   "display_name": "Python 3",
   "language": "python",
   "name": "python3"
  },
  "language_info": {
   "codemirror_mode": {
    "name": "ipython",
    "version": 3
   },
   "file_extension": ".py",
   "mimetype": "text/x-python",
   "name": "python",
   "nbconvert_exporter": "python",
   "pygments_lexer": "ipython3",
   "version": "3.5.1"
  }
 },
 "nbformat": 4,
 "nbformat_minor": 0
}
