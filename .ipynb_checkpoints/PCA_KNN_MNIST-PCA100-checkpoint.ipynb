{
 "cells": [
  {
   "cell_type": "markdown",
   "metadata": {},
   "source": [
    "# MNIST (PCA100 + KNN)"
   ]
  },
  {
   "cell_type": "code",
   "execution_count": 1,
   "metadata": {
    "collapsed": true
   },
   "outputs": [],
   "source": [
    "#Libraries\n",
    "from __future__ import print_function\n",
    "from sklearn.decomposition import PCA\n",
    "from sklearn.datasets import fetch_mldata\n",
    "from sklearn.grid_search import GridSearchCV\n",
    "from sklearn import svm, metrics, cross_validation\n",
    "from sklearn.neighbors import KNeighborsClassifier\n",
    "from sklearn.metrics import roc_curve, auc\n",
    "import matplotlib.pyplot as plt\n",
    "%matplotlib inline\n",
    "import numpy as np\n",
    "import pandas as pd\n",
    "import timeit"
   ]
  },
  {
   "cell_type": "code",
   "execution_count": 2,
   "metadata": {
    "collapsed": true
   },
   "outputs": [],
   "source": [
    "#Load MNIST Data\n",
    "mnist = fetch_mldata(\"MNIST original\")\n",
    "\n",
    "# rescale the data\n",
    "X, y = mnist.data / 255., mnist.target\n",
    "\n",
    "# separate train, test\n",
    "X_train, X_test = X[:60000], X[60000:]\n",
    "y_train, y_test = y[:60000], y[60000:]"
   ]
  },
  {
   "cell_type": "code",
   "execution_count": 3,
   "metadata": {
    "collapsed": false
   },
   "outputs": [
    {
     "data": {
      "text/plain": [
       "(70000, 784)"
      ]
     },
     "execution_count": 3,
     "metadata": {},
     "output_type": "execute_result"
    }
   ],
   "source": [
    "np.shape(X)"
   ]
  },
  {
   "cell_type": "code",
   "execution_count": 4,
   "metadata": {
    "collapsed": false
   },
   "outputs": [
    {
     "data": {
      "text/plain": [
       "(70000,)"
      ]
     },
     "execution_count": 4,
     "metadata": {},
     "output_type": "execute_result"
    }
   ],
   "source": [
    "np.shape(y)"
   ]
  },
  {
   "cell_type": "code",
   "execution_count": 5,
   "metadata": {
    "collapsed": false
   },
   "outputs": [
    {
     "data": {
      "text/plain": [
       "(60000, 784)"
      ]
     },
     "execution_count": 5,
     "metadata": {},
     "output_type": "execute_result"
    }
   ],
   "source": [
    "np.shape(X_train)"
   ]
  },
  {
   "cell_type": "code",
   "execution_count": 6,
   "metadata": {
    "collapsed": false
   },
   "outputs": [
    {
     "data": {
      "text/plain": [
       "(60000,)"
      ]
     },
     "execution_count": 6,
     "metadata": {},
     "output_type": "execute_result"
    }
   ],
   "source": [
    "np.shape(y_train)"
   ]
  },
  {
   "cell_type": "code",
   "execution_count": 7,
   "metadata": {
    "collapsed": false
   },
   "outputs": [
    {
     "data": {
      "text/plain": [
       "(10000, 784)"
      ]
     },
     "execution_count": 7,
     "metadata": {},
     "output_type": "execute_result"
    }
   ],
   "source": [
    "np.shape(X_test)"
   ]
  },
  {
   "cell_type": "code",
   "execution_count": 8,
   "metadata": {
    "collapsed": false
   },
   "outputs": [
    {
     "data": {
      "text/plain": [
       "(10000,)"
      ]
     },
     "execution_count": 8,
     "metadata": {},
     "output_type": "execute_result"
    }
   ],
   "source": [
    "np.shape(y_test)"
   ]
  },
  {
   "cell_type": "markdown",
   "metadata": {},
   "source": [
    "# PCA: Components: 100"
   ]
  },
  {
   "cell_type": "code",
   "execution_count": 9,
   "metadata": {
    "collapsed": false
   },
   "outputs": [
    {
     "data": {
      "text/plain": [
       "PCA(copy=True, n_components=100, whiten=False)"
      ]
     },
     "execution_count": 9,
     "metadata": {},
     "output_type": "execute_result"
    }
   ],
   "source": [
    "# select number of components to extract\n",
    "pca = PCA(n_components=100)\n",
    "pca.fit(X_train)\n",
    "\n"
   ]
  },
  {
   "cell_type": "markdown",
   "metadata": {},
   "source": [
    "# Feature extraction"
   ]
  },
  {
   "cell_type": "code",
   "execution_count": 10,
   "metadata": {
    "collapsed": true
   },
   "outputs": [],
   "source": [
    "train_ext = pca.transform(X_train)\n",
    "test_ext = pca.transform(X_test)"
   ]
  },
  {
   "cell_type": "code",
   "execution_count": 11,
   "metadata": {
    "collapsed": false
   },
   "outputs": [
    {
     "data": {
      "text/plain": [
       "(60000, 100)"
      ]
     },
     "execution_count": 11,
     "metadata": {},
     "output_type": "execute_result"
    }
   ],
   "source": [
    "np.shape(train_ext)"
   ]
  },
  {
   "cell_type": "code",
   "execution_count": 12,
   "metadata": {
    "collapsed": false
   },
   "outputs": [
    {
     "data": {
      "text/plain": [
       "(10000, 100)"
      ]
     },
     "execution_count": 12,
     "metadata": {},
     "output_type": "execute_result"
    }
   ],
   "source": [
    "np.shape(test_ext)"
   ]
  },
  {
   "cell_type": "markdown",
   "metadata": {},
   "source": [
    "# Ploting"
   ]
  },
  {
   "cell_type": "code",
   "execution_count": 13,
   "metadata": {
    "collapsed": false,
    "scrolled": true
   },
   "outputs": [
    {
     "name": "stdout",
     "output_type": "stream",
     "text": [
      "Variance explained with 40 components: 0.9146\n"
     ]
    },
    {
     "data": {
      "image/png": "[encoded data removed]",
      "text/plain": [
       "<matplotlib.figure.Figure at 0x7f784a59cc18>"
      ]
     },
     "metadata": {},
     "output_type": "display_data"
    }
   ],
   "source": [
    "print(\"Variance explained with 40 components: %.4f\" % np.sum(pca.explained_variance_ratio_))\n",
    "plt.plot(pca.explained_variance_ratio_)\n",
    "plt.title('Variance Explained by Extracted Componenent')\n",
    "plt.show()"
   ]
  },
  {
   "cell_type": "markdown",
   "metadata": {},
   "source": [
    "# KNN: n_neighbors: 5"
   ]
  },
  {
   "cell_type": "code",
   "execution_count": 14,
   "metadata": {
    "collapsed": false
   },
   "outputs": [
    {
     "name": "stdout",
     "output_type": "stream",
     "text": [
      "KNN fit time: 0.29 sec\n"
     ]
    }
   ],
   "source": [
    "knn = KNeighborsClassifier()\n",
    "start_time = timeit.default_timer()\n",
    "knn.fit(train_ext, y_train)\n",
    "elapsed = timeit.default_timer() - start_time\n",
    "print(\"KNN fit time: %.2f sec\" % (elapsed))"
   ]
  },
  {
   "cell_type": "markdown",
   "metadata": {},
   "source": [
    "Make predictions on test data"
   ]
  },
  {
   "cell_type": "code",
   "execution_count": 15,
   "metadata": {
    "collapsed": false
   },
   "outputs": [
    {
     "name": "stdout",
     "output_type": "stream",
     "text": [
      "KNN predict time: 81.38 sec\n"
     ]
    }
   ],
   "source": [
    "start_time = timeit.default_timer()\n",
    "predicted = knn.predict(test_ext)\n",
    "elapsedPredict = timeit.default_timer() - start_time\n",
    "print(\"KNN predict time: %.2f sec\" % (elapsedPredict))"
   ]
  },
  {
   "cell_type": "markdown",
   "metadata": {},
   "source": [
    "# Cross Validation: Folds: 5"
   ]
  },
  {
   "cell_type": "code",
   "execution_count": 16,
   "metadata": {
    "collapsed": false
   },
   "outputs": [
    {
     "name": "stdout",
     "output_type": "stream",
     "text": [
      "Cross validatione time: 141.06 sec\n",
      "Cross validation scores: [ 0.9734  0.9737  0.9715  0.9714  0.9725]\n",
      "Cross validation mean: 0.972 (+/-0.002)\n"
     ]
    }
   ],
   "source": [
    "start_time = timeit.default_timer()\n",
    "scores = cross_validation.cross_val_score(knn, train_ext, y_train, cv=5, n_jobs=-1)\n",
    "elapsedCV = timeit.default_timer() - start_time\n",
    "print(\"Cross validatione time: %.2f sec\" % (elapsedCV))\n",
    "np.set_printoptions(precision=4)\n",
    "print(\"Cross validation scores:\", scores)\n",
    "print(\"Cross validation mean: %0.3f (+/-%0.03f)\" % (scores.mean(), scores.std() * 2))"
   ]
  },
  {
   "cell_type": "markdown",
   "metadata": {},
   "source": [
    "# Classification metrics"
   ]
  },
  {
   "cell_type": "code",
   "execution_count": 17,
   "metadata": {
    "collapsed": false
   },
   "outputs": [
    {
     "name": "stdout",
     "output_type": "stream",
     "text": [
      "\n",
      "Accuracy on test data: 0.9727\n"
     ]
    }
   ],
   "source": [
    "print(\"\\nAccuracy on test data: %.4f\" % metrics.accuracy_score(y_test, predicted))"
   ]
  },
  {
   "cell_type": "markdown",
   "metadata": {},
   "source": [
    "# Confusion matrix:"
   ]
  },
  {
   "cell_type": "code",
   "execution_count": 18,
   "metadata": {
    "collapsed": false
   },
   "outputs": [
    {
     "name": "stdout",
     "output_type": "stream",
     "text": [
      "[[ 973    1    1    0    0    1    3    1    0    0]\n",
      " [   0 1130    2    0    0    0    2    0    0    1]\n",
      " [   8    2 1001    1    2    0    1   14    3    0]\n",
      " [   0    1    5  974    1   13    0    7    5    4]\n",
      " [   1    5    0    0  950    0    4    1    1   20]\n",
      " [   4    0    0    9    1  866    5    1    3    3]\n",
      " [   3    3    0    0    3    2  947    0    0    0]\n",
      " [   0   19    5    0    2    0    0  996    0    6]\n",
      " [   6    0    5   12    6   10    4    4  923    4]\n",
      " [   5    6    3    7    5    3    1    9    3  967]]\n"
     ]
    }
   ],
   "source": [
    "print(metrics.confusion_matrix(y_test, predicted, range(10)))"
   ]
  },
  {
   "cell_type": "markdown",
   "metadata": {},
   "source": [
    "# Classification report:\n",
    "\n",
    "    *precision: truePositives / (truePositives + falsePositives)\n",
    "    *recall: truePositives / Positives\n",
    "    *f1-score: 2 (precision recall) / (precision + recall)\n",
    "    *support: Cantidad de ocurrencias\n",
    "\n"
   ]
  },
  {
   "cell_type": "code",
   "execution_count": 19,
   "metadata": {
    "collapsed": false
   },
   "outputs": [
    {
     "name": "stdout",
     "output_type": "stream",
     "text": [
      "             precision    recall  f1-score   support\n",
      "\n",
      "        0.0       0.97      0.99      0.98       980\n",
      "        1.0       0.97      1.00      0.98      1135\n",
      "        2.0       0.98      0.97      0.97      1032\n",
      "        3.0       0.97      0.96      0.97      1010\n",
      "        4.0       0.98      0.97      0.97       982\n",
      "        5.0       0.97      0.97      0.97       892\n",
      "        6.0       0.98      0.99      0.98       958\n",
      "        7.0       0.96      0.97      0.97      1028\n",
      "        8.0       0.98      0.95      0.97       974\n",
      "        9.0       0.96      0.96      0.96      1009\n",
      "\n",
      "avg / total       0.97      0.97      0.97     10000\n",
      "\n"
     ]
    }
   ],
   "source": [
    "print(metrics.classification_report(y_test, predicted))"
   ]
  },
  {
   "cell_type": "markdown",
   "metadata": {},
   "source": [
    "# Error samples:"
   ]
  },
  {
   "cell_type": "code",
   "execution_count": 20,
   "metadata": {
    "collapsed": false
   },
   "outputs": [
    {
     "data": {
      "image/png": "[encoded data removed]",
      "text/plain": [
       "<matplotlib.figure.Figure at 0x7f782cbd5160>"
      ]
     },
     "metadata": {},
     "output_type": "display_data"
    }
   ],
   "source": [
    "misslabels = predicted[y_test != predicted]\n",
    "reallabels = y_test[y_test != predicted]\n",
    "missimages = X_test[y_test != predicted]\n",
    "choice = np.random.choice(range(len(misslabels)), 12, replace=False)\n",
    "plt.figure(figsize=(16, 6))\n",
    "for index, i in enumerate(choice):\n",
    "    plt.subplot(2, 6, index+1)\n",
    "    plt.axis('off')\n",
    "    plt.imshow(missimages[i].reshape(28, 28), cmap=plt.cm.gray_r, interpolation='nearest')\n",
    "    plt.title('Prediction: %i\\nTrue: %i' % (misslabels[i], reallabels[i]))"
   ]
  },
  {
   "cell_type": "code",
   "execution_count": 21,
   "metadata": {
    "collapsed": false
   },
   "outputs": [],
   "source": [
    "df = pd.DataFrame(metrics.confusion_matrix(y_test, predicted, range(10)))\n",
    "df.to_csv('knnWithPreprocessPCA100.csv')\n",
    "with open('knnWithPreprocessPCA100.txt', 'w') as file_:\n",
    "    file_.write('%.4f' % elapsed)"
   ]
  }
 ],
 "metadata": {
  "kernelspec": {
   "display_name": "Python 3",
   "language": "python",
   "name": "python3"
  },
  "language_info": {
   "codemirror_mode": {
    "name": "ipython",
    "version": 3
   },
   "file_extension": ".py",
   "mimetype": "text/x-python",
   "name": "python",
   "nbconvert_exporter": "python",
   "pygments_lexer": "ipython3",
   "version": "3.5.1"
  }
 },
 "nbformat": 4,
 "nbformat_minor": 0
}
